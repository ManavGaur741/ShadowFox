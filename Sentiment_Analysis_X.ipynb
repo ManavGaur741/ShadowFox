{
 "cells": [
  {
   "cell_type": "markdown",
   "id": "664919df",
   "metadata": {},
   "source": [
    "# Sentiment Analysis on X (Twitter) Posts using VADER\n",
    "**Internship Task 2 – ShadowFox Data Science**"
   ]
  },
  {
   "cell_type": "markdown",
   "id": "8b071ae4",
   "metadata": {},
   "source": [
    "##  Objective\n",
    "In this task, we analyze sentiment from posts on X (formerly Twitter) using the **VADER Sentiment Analyzer** from the NLTK library.\n",
    "\n",
    "We will:\n",
    "- Use VADER to classify each post as Positive, Neutral, or Negative\n",
    "- Compare it with the actual labels in the dataset\n",
    "- Visualize sentiment distributions\n",
    "- Evaluate model accuracy\n"
   ]
  },
  {
   "cell_type": "code",
   "execution_count": 12,
   "id": "d134602d",
   "metadata": {},
   "outputs": [
    {
     "name": "stderr",
     "output_type": "stream",
     "text": [
      "[nltk_data] Downloading package vader_lexicon to\n",
      "[nltk_data]     C:\\Users\\MANAV\\AppData\\Roaming\\nltk_data...\n",
      "[nltk_data]   Package vader_lexicon is already up-to-date!\n"
     ]
    },
    {
     "data": {
      "text/html": [
       "<div>\n",
       "<style scoped>\n",
       "    .dataframe tbody tr th:only-of-type {\n",
       "        vertical-align: middle;\n",
       "    }\n",
       "\n",
       "    .dataframe tbody tr th {\n",
       "        vertical-align: top;\n",
       "    }\n",
       "\n",
       "    .dataframe thead th {\n",
       "        text-align: right;\n",
       "    }\n",
       "</style>\n",
       "<table border=\"1\" class=\"dataframe\">\n",
       "  <thead>\n",
       "    <tr style=\"text-align: right;\">\n",
       "      <th></th>\n",
       "      <th>clean_text</th>\n",
       "      <th>category</th>\n",
       "    </tr>\n",
       "  </thead>\n",
       "  <tbody>\n",
       "    <tr>\n",
       "      <th>0</th>\n",
       "      <td>when modi promised “minimum government maximum...</td>\n",
       "      <td>-1.0</td>\n",
       "    </tr>\n",
       "    <tr>\n",
       "      <th>1</th>\n",
       "      <td>talk all the nonsense and continue all the dra...</td>\n",
       "      <td>0.0</td>\n",
       "    </tr>\n",
       "    <tr>\n",
       "      <th>2</th>\n",
       "      <td>what did just say vote for modi  welcome bjp t...</td>\n",
       "      <td>1.0</td>\n",
       "    </tr>\n",
       "    <tr>\n",
       "      <th>3</th>\n",
       "      <td>asking his supporters prefix chowkidar their n...</td>\n",
       "      <td>1.0</td>\n",
       "    </tr>\n",
       "    <tr>\n",
       "      <th>4</th>\n",
       "      <td>answer who among these the most powerful world...</td>\n",
       "      <td>1.0</td>\n",
       "    </tr>\n",
       "  </tbody>\n",
       "</table>\n",
       "</div>"
      ],
      "text/plain": [
       "                                          clean_text  category\n",
       "0  when modi promised “minimum government maximum...      -1.0\n",
       "1  talk all the nonsense and continue all the dra...       0.0\n",
       "2  what did just say vote for modi  welcome bjp t...       1.0\n",
       "3  asking his supporters prefix chowkidar their n...       1.0\n",
       "4  answer who among these the most powerful world...       1.0"
      ]
     },
     "execution_count": 12,
     "metadata": {},
     "output_type": "execute_result"
    }
   ],
   "source": [
    "# Install required resources\n",
    "import pandas as pd\n",
    "import matplotlib.pyplot as plt\n",
    "import seaborn as sns\n",
    "import nltk\n",
    "from nltk.sentiment.vader import SentimentIntensityAnalyzer\n",
    "from sklearn.metrics import accuracy_score, classification_report, confusion_matrix\n",
    "\n",
    "# Download VADER lexicon\n",
    "nltk.download('vader_lexicon')\n",
    "\n",
    "# Load dataset\n",
    "df = pd.read_csv(r\"D:\\ShadowFox\\X data.csv\")\n",
    "df.head()"
   ]
  },
  {
   "cell_type": "markdown",
   "id": "307a68ef",
   "metadata": {},
   "source": [
    "##  Preprocessing: Map numeric categories to text labels"
   ]
  },
  {
   "cell_type": "code",
   "execution_count": 13,
   "id": "b989a1f2",
   "metadata": {},
   "outputs": [
    {
     "data": {
      "text/html": [
       "<div>\n",
       "<style scoped>\n",
       "    .dataframe tbody tr th:only-of-type {\n",
       "        vertical-align: middle;\n",
       "    }\n",
       "\n",
       "    .dataframe tbody tr th {\n",
       "        vertical-align: top;\n",
       "    }\n",
       "\n",
       "    .dataframe thead th {\n",
       "        text-align: right;\n",
       "    }\n",
       "</style>\n",
       "<table border=\"1\" class=\"dataframe\">\n",
       "  <thead>\n",
       "    <tr style=\"text-align: right;\">\n",
       "      <th></th>\n",
       "      <th>clean_text</th>\n",
       "      <th>actual_sentiment</th>\n",
       "    </tr>\n",
       "  </thead>\n",
       "  <tbody>\n",
       "    <tr>\n",
       "      <th>0</th>\n",
       "      <td>when modi promised “minimum government maximum...</td>\n",
       "      <td>Negative</td>\n",
       "    </tr>\n",
       "    <tr>\n",
       "      <th>1</th>\n",
       "      <td>talk all the nonsense and continue all the dra...</td>\n",
       "      <td>Neutral</td>\n",
       "    </tr>\n",
       "    <tr>\n",
       "      <th>2</th>\n",
       "      <td>what did just say vote for modi  welcome bjp t...</td>\n",
       "      <td>Positive</td>\n",
       "    </tr>\n",
       "    <tr>\n",
       "      <th>3</th>\n",
       "      <td>asking his supporters prefix chowkidar their n...</td>\n",
       "      <td>Positive</td>\n",
       "    </tr>\n",
       "    <tr>\n",
       "      <th>4</th>\n",
       "      <td>answer who among these the most powerful world...</td>\n",
       "      <td>Positive</td>\n",
       "    </tr>\n",
       "  </tbody>\n",
       "</table>\n",
       "</div>"
      ],
      "text/plain": [
       "                                          clean_text actual_sentiment\n",
       "0  when modi promised “minimum government maximum...         Negative\n",
       "1  talk all the nonsense and continue all the dra...          Neutral\n",
       "2  what did just say vote for modi  welcome bjp t...         Positive\n",
       "3  asking his supporters prefix chowkidar their n...         Positive\n",
       "4  answer who among these the most powerful world...         Positive"
      ]
     },
     "execution_count": 13,
     "metadata": {},
     "output_type": "execute_result"
    }
   ],
   "source": [
    "label_map = {-1.0: 'Negative', 0.0: 'Neutral', 1.0: 'Positive'}\n",
    "df['actual_sentiment'] = df['category'].map(label_map)\n",
    "df[['clean_text', 'actual_sentiment']].head()"
   ]
  },
  {
   "cell_type": "markdown",
   "id": "9cbbf313",
   "metadata": {},
   "source": [
    "##  Step 1: Apply VADER Sentiment Analysis"
   ]
  },
  {
   "cell_type": "code",
   "execution_count": 14,
   "id": "e0a15bd5",
   "metadata": {},
   "outputs": [
    {
     "data": {
      "text/html": [
       "<div>\n",
       "<style scoped>\n",
       "    .dataframe tbody tr th:only-of-type {\n",
       "        vertical-align: middle;\n",
       "    }\n",
       "\n",
       "    .dataframe tbody tr th {\n",
       "        vertical-align: top;\n",
       "    }\n",
       "\n",
       "    .dataframe thead th {\n",
       "        text-align: right;\n",
       "    }\n",
       "</style>\n",
       "<table border=\"1\" class=\"dataframe\">\n",
       "  <thead>\n",
       "    <tr style=\"text-align: right;\">\n",
       "      <th></th>\n",
       "      <th>clean_text</th>\n",
       "      <th>actual_sentiment</th>\n",
       "      <th>predicted_sentiment</th>\n",
       "    </tr>\n",
       "  </thead>\n",
       "  <tbody>\n",
       "    <tr>\n",
       "      <th>0</th>\n",
       "      <td>when modi promised “minimum government maximum...</td>\n",
       "      <td>Negative</td>\n",
       "      <td>Positive</td>\n",
       "    </tr>\n",
       "    <tr>\n",
       "      <th>1</th>\n",
       "      <td>talk all the nonsense and continue all the dra...</td>\n",
       "      <td>Neutral</td>\n",
       "      <td>Negative</td>\n",
       "    </tr>\n",
       "    <tr>\n",
       "      <th>2</th>\n",
       "      <td>what did just say vote for modi  welcome bjp t...</td>\n",
       "      <td>Positive</td>\n",
       "      <td>Positive</td>\n",
       "    </tr>\n",
       "    <tr>\n",
       "      <th>3</th>\n",
       "      <td>asking his supporters prefix chowkidar their n...</td>\n",
       "      <td>Positive</td>\n",
       "      <td>Negative</td>\n",
       "    </tr>\n",
       "    <tr>\n",
       "      <th>4</th>\n",
       "      <td>answer who among these the most powerful world...</td>\n",
       "      <td>Positive</td>\n",
       "      <td>Positive</td>\n",
       "    </tr>\n",
       "  </tbody>\n",
       "</table>\n",
       "</div>"
      ],
      "text/plain": [
       "                                          clean_text actual_sentiment  \\\n",
       "0  when modi promised “minimum government maximum...         Negative   \n",
       "1  talk all the nonsense and continue all the dra...          Neutral   \n",
       "2  what did just say vote for modi  welcome bjp t...         Positive   \n",
       "3  asking his supporters prefix chowkidar their n...         Positive   \n",
       "4  answer who among these the most powerful world...         Positive   \n",
       "\n",
       "  predicted_sentiment  \n",
       "0            Positive  \n",
       "1            Negative  \n",
       "2            Positive  \n",
       "3            Negative  \n",
       "4            Positive  "
      ]
     },
     "execution_count": 14,
     "metadata": {},
     "output_type": "execute_result"
    }
   ],
   "source": [
    "from nltk.sentiment.vader import SentimentIntensityAnalyzer\n",
    "\n",
    "# Make sure all values are strings and handle missing data\n",
    "df['clean_text'] = df['clean_text'].fillna(\"\").astype(str)\n",
    "\n",
    "# Initialize VADER\n",
    "sia = SentimentIntensityAnalyzer()\n",
    "\n",
    "# Get compound sentiment scores\n",
    "df['compound'] = df['clean_text'].apply(lambda x: sia.polarity_scores(x)['compound'])\n",
    "\n",
    "# Classify sentiment based on compound score\n",
    "def classify(score):\n",
    "    if score >= 0.05:\n",
    "        return 'Positive'\n",
    "    elif score <= -0.05:\n",
    "        return 'Negative'\n",
    "    else:\n",
    "        return 'Neutral'\n",
    "\n",
    "# Apply classification\n",
    "df['predicted_sentiment'] = df['compound'].apply(classify)\n",
    "\n",
    "# Preview results\n",
    "df[['clean_text', 'actual_sentiment', 'predicted_sentiment']].head()\n"
   ]
  },
  {
   "cell_type": "markdown",
   "id": "09f0d784",
   "metadata": {},
   "source": [
    "##  Step 2: Sentiment Distribution (Actual vs Predicted)"
   ]
  },
  {
   "cell_type": "code",
   "execution_count": 15,
   "id": "663fddd1",
   "metadata": {},
   "outputs": [
    {
     "data": {
      "image/png": "[encoded data removed]",
      "text/plain": [
       "<Figure size 1200x500 with 2 Axes>"
      ]
     },
     "metadata": {},
     "output_type": "display_data"
    }
   ],
   "source": [
    "plt.figure(figsize=(12,5))\n",
    "\n",
    "plt.subplot(1, 2, 1)\n",
    "sns.countplot(x='actual_sentiment', data=df)\n",
    "plt.title(\"Actual Sentiment Distribution\")\n",
    "\n",
    "plt.subplot(1, 2, 2)\n",
    "sns.countplot(x='predicted_sentiment', data=df)\n",
    "plt.title(\"Predicted Sentiment Distribution\")\n",
    "\n",
    "plt.tight_layout()\n",
    "plt.show()"
   ]
  },
  {
   "cell_type": "markdown",
   "id": "54895b8f",
   "metadata": {},
   "source": [
    "##  Step 3: Evaluation of Model"
   ]
  },
  {
   "cell_type": "code",
   "execution_count": 16,
   "id": "9efb58b0",
   "metadata": {},
   "outputs": [
    {
     "name": "stdout",
     "output_type": "stream",
     "text": [
      "Classification Report:\n"
     ]
    },
    {
     "name": "stderr",
     "output_type": "stream",
     "text": [
      "c:\\Users\\MANAV\\anaconda3\\Lib\\site-packages\\sklearn\\metrics\\_classification.py:1509: UndefinedMetricWarning: Precision is ill-defined and being set to 0.0 in labels with no predicted samples. Use `zero_division` parameter to control this behavior.\n",
      "  _warn_prf(average, modifier, f\"{metric.capitalize()} is\", len(result))\n",
      "c:\\Users\\MANAV\\anaconda3\\Lib\\site-packages\\sklearn\\metrics\\_classification.py:1509: UndefinedMetricWarning: Precision is ill-defined and being set to 0.0 in labels with no predicted samples. Use `zero_division` parameter to control this behavior.\n",
      "  _warn_prf(average, modifier, f\"{metric.capitalize()} is\", len(result))\n",
      "c:\\Users\\MANAV\\anaconda3\\Lib\\site-packages\\sklearn\\metrics\\_classification.py:1509: UndefinedMetricWarning: Precision is ill-defined and being set to 0.0 in labels with no predicted samples. Use `zero_division` parameter to control this behavior.\n",
      "  _warn_prf(average, modifier, f\"{metric.capitalize()} is\", len(result))\n"
     ]
    },
    {
     "name": "stdout",
     "output_type": "stream",
     "text": [
      "              precision    recall  f1-score   support\n",
      "\n",
      "    Negative       0.42      0.60      0.49     35510\n",
      "     Neutral       0.63      0.41      0.50     55213\n",
      "    Positive       0.64      0.67      0.65     72250\n",
      "         nan       0.00      0.00      0.00         7\n",
      "\n",
      "    accuracy                           0.57    162980\n",
      "   macro avg       0.42      0.42      0.41    162980\n",
      "weighted avg       0.59      0.57      0.57    162980\n",
      "\n"
     ]
    },
    {
     "data": {
      "image/png": "[encoded data removed]",
      "text/plain": [
       "<Figure size 640x480 with 2 Axes>"
      ]
     },
     "metadata": {},
     "output_type": "display_data"
    }
   ],
   "source": [
    "\n",
    "# Ensure both columns are strings to avoid type comparison issues\n",
    "df['actual_sentiment'] = df['actual_sentiment'].astype(str)\n",
    "df['predicted_sentiment'] = df['predicted_sentiment'].astype(str)\n",
    "\n",
    "print(\"Classification Report:\")\n",
    "print(classification_report(df['actual_sentiment'], df['predicted_sentiment']))\n",
    "\n",
    "conf_matrix = confusion_matrix(df['actual_sentiment'], df['predicted_sentiment'], labels=['Positive', 'Neutral', 'Negative'])\n",
    "\n",
    "sns.heatmap(conf_matrix, annot=True, fmt='d',\n",
    "            xticklabels=['Positive', 'Neutral', 'Negative'],\n",
    "            yticklabels=['Positive', 'Neutral', 'Negative'],\n",
    "            cmap='Blues')\n",
    "plt.title(\"Confusion Matrix\")\n",
    "plt.xlabel(\"Predicted\")\n",
    "plt.ylabel(\"Actual\")\n",
    "plt.show()\n"
   ]
  },
  {
   "cell_type": "markdown",
   "id": "24b4209b",
   "metadata": {},
   "source": [
    "##  Limitations of VADER Sentiment Analysis\n",
    "\n",
    "While VADER (Valence Aware Dictionary and sEntiment Reasoner) is a powerful rule-based sentiment analyzer, it has several limitations that affect its performance in real-world or domain-specific datasets like this one:\n",
    "\n",
    "###  1. Not Context-Aware\n",
    "VADER does not understand context or sarcasm. For instance, the sentence:\n",
    "> *\"Great job ruining everything, just brilliant.\"*\n",
    "might be tagged as **positive** due to the word \"great\", even though it’s clearly sarcastic.\n",
    "\n",
    "###  2. Limited Vocabulary\n",
    "VADER relies on a fixed sentiment lexicon. If a word isn’t in its dictionary, it won’t influence the sentiment score—even if it’s clearly emotionally charged or domain-specific (e.g., political slangs, abbreviations, hashtags).\n",
    "\n",
    "###  3. Generalized Model\n",
    "VADER is designed for **social media and casual text**, but it’s not specialized for political, corporate, or sarcastic content that often exists in X (Twitter) data.\n",
    "\n",
    "###  4. No Learning Capability\n",
    "VADER is **not a machine learning model**. It cannot adapt or improve based on the dataset. It gives the same score regardless of the data distribution.\n",
    "\n",
    "###  5. Mid-Level Accuracy\n",
    "In most real-world datasets, VADER achieves **55–65% accuracy** at best. Reaching **90%+ accuracy** would typically require machine learning or deep learning models trained on domain-specific data.\n",
    "\n",
    "---\n",
    "\n",
    "###  Recommendation:\n",
    "To improve accuracy beyond VADER's capabilities, it’s advisable to use:\n",
    "- **TF-IDF + ML classifiers** (Logistic Regression, SVM, etc.)\n",
    "- **Transformers-based models** like BERT or RoBERTa, fine-tuned for sentiment analysis\n",
    "\n",
    "These models understand context, can learn from training data, and handle more complex sentiment patterns.\n"
   ]
  },
  {
   "cell_type": "markdown",
   "id": "edbfb8a5",
   "metadata": {},
   "source": [
    "##  Conclusion\n",
    "\n",
    "- We applied **VADER Sentiment Analysis** to classify posts into Positive, Neutral, and Negative.\n",
    "- The results were compared to ground truth labels from the dataset.\n",
    "- We visualized the sentiment distributions and evaluated model accuracy using a confusion matrix and classification report.\n",
    "- VADER performed decently considering it's a rule-based approach and the dataset covers political/subjective topics.\n",
    "\n",
    "This completes **Task 2** for the ShadowFox Internship!\n"
   ]
  },
  {
   "cell_type": "markdown",
   "id": "ca1cef17",
   "metadata": {},
   "source": [
    "By **Manav Gaur**"
   ]
  }
 ],
 "metadata": {
  "kernelspec": {
   "display_name": "base",
   "language": "python",
   "name": "python3"
  },
  "language_info": {
   "codemirror_mode": {
    "name": "ipython",
    "version": 3
   },
   "file_extension": ".py",
   "mimetype": "text/x-python",
   "name": "python",
   "nbconvert_exporter": "python",
   "pygments_lexer": "ipython3",
   "version": "3.12.4"
  }
 },
 "nbformat": 4,
 "nbformat_minor": 5
}
